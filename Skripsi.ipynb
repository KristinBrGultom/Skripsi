{
 "cells": [
  {
   "cell_type": "code",
   "execution_count": 5,
   "metadata": {},
   "outputs": [],
   "source": [
    "import pandas as pd\n",
    "import matplotlib.pyplot as plt"
   ]
  },
  {
   "cell_type": "code",
   "execution_count": 6,
   "metadata": {},
   "outputs": [],
   "source": [
    "dfdp = pd.read_csv('Data Pelanggan.csv',sep=',',engine='python')"
   ]
  },
  {
   "cell_type": "code",
   "execution_count": 16,
   "metadata": {},
   "outputs": [
    {
     "data": {
      "text/html": [
       "<div>\n",
       "<style scoped>\n",
       "    .dataframe tbody tr th:only-of-type {\n",
       "        vertical-align: middle;\n",
       "    }\n",
       "\n",
       "    .dataframe tbody tr th {\n",
       "        vertical-align: top;\n",
       "    }\n",
       "\n",
       "    .dataframe thead th {\n",
       "        text-align: right;\n",
       "    }\n",
       "</style>\n",
       "<table border=\"1\" class=\"dataframe\">\n",
       "  <thead>\n",
       "    <tr style=\"text-align: right;\">\n",
       "      <th></th>\n",
       "      <th>Jenis Kelamin</th>\n",
       "      <th>Pendidikan Terakhir</th>\n",
       "      <th>Pekerjaan</th>\n",
       "      <th>Jenis Yogurt Bark Fruity sering anda dibeli</th>\n",
       "      <th>Berapa tingkat Kepuasan Anda terhadap produk Yogurt Bark Fruity</th>\n",
       "      <th>Yogurt Bark Fruity rasa apa yang anda sukai?</th>\n",
       "    </tr>\n",
       "  </thead>\n",
       "  <tbody>\n",
       "    <tr>\n",
       "      <th>count</th>\n",
       "      <td>91.000000</td>\n",
       "      <td>91.000000</td>\n",
       "      <td>91.000000</td>\n",
       "      <td>91.000000</td>\n",
       "      <td>91.000000</td>\n",
       "      <td>91.000000</td>\n",
       "    </tr>\n",
       "    <tr>\n",
       "      <th>mean</th>\n",
       "      <td>1.329670</td>\n",
       "      <td>3.428571</td>\n",
       "      <td>1.527473</td>\n",
       "      <td>1.219780</td>\n",
       "      <td>4.164835</td>\n",
       "      <td>1.175824</td>\n",
       "    </tr>\n",
       "    <tr>\n",
       "      <th>std</th>\n",
       "      <td>0.472698</td>\n",
       "      <td>0.634960</td>\n",
       "      <td>1.204996</td>\n",
       "      <td>0.416392</td>\n",
       "      <td>0.763962</td>\n",
       "      <td>0.382780</td>\n",
       "    </tr>\n",
       "    <tr>\n",
       "      <th>min</th>\n",
       "      <td>1.000000</td>\n",
       "      <td>3.000000</td>\n",
       "      <td>1.000000</td>\n",
       "      <td>1.000000</td>\n",
       "      <td>1.000000</td>\n",
       "      <td>1.000000</td>\n",
       "    </tr>\n",
       "    <tr>\n",
       "      <th>25%</th>\n",
       "      <td>1.000000</td>\n",
       "      <td>3.000000</td>\n",
       "      <td>1.000000</td>\n",
       "      <td>1.000000</td>\n",
       "      <td>4.000000</td>\n",
       "      <td>1.000000</td>\n",
       "    </tr>\n",
       "    <tr>\n",
       "      <th>50%</th>\n",
       "      <td>1.000000</td>\n",
       "      <td>3.000000</td>\n",
       "      <td>1.000000</td>\n",
       "      <td>1.000000</td>\n",
       "      <td>4.000000</td>\n",
       "      <td>1.000000</td>\n",
       "    </tr>\n",
       "    <tr>\n",
       "      <th>75%</th>\n",
       "      <td>2.000000</td>\n",
       "      <td>4.000000</td>\n",
       "      <td>1.000000</td>\n",
       "      <td>1.000000</td>\n",
       "      <td>5.000000</td>\n",
       "      <td>1.000000</td>\n",
       "    </tr>\n",
       "    <tr>\n",
       "      <th>max</th>\n",
       "      <td>2.000000</td>\n",
       "      <td>6.000000</td>\n",
       "      <td>5.000000</td>\n",
       "      <td>2.000000</td>\n",
       "      <td>5.000000</td>\n",
       "      <td>2.000000</td>\n",
       "    </tr>\n",
       "  </tbody>\n",
       "</table>\n",
       "</div>"
      ],
      "text/plain": [
       "       Jenis Kelamin  Pendidikan Terakhir  Pekerjaan  \\\n",
       "count      91.000000            91.000000  91.000000   \n",
       "mean        1.329670             3.428571   1.527473   \n",
       "std         0.472698             0.634960   1.204996   \n",
       "min         1.000000             3.000000   1.000000   \n",
       "25%         1.000000             3.000000   1.000000   \n",
       "50%         1.000000             3.000000   1.000000   \n",
       "75%         2.000000             4.000000   1.000000   \n",
       "max         2.000000             6.000000   5.000000   \n",
       "\n",
       "       Jenis Yogurt Bark Fruity sering anda dibeli  \\\n",
       "count                                    91.000000   \n",
       "mean                                      1.219780   \n",
       "std                                       0.416392   \n",
       "min                                       1.000000   \n",
       "25%                                       1.000000   \n",
       "50%                                       1.000000   \n",
       "75%                                       1.000000   \n",
       "max                                       2.000000   \n",
       "\n",
       "       Berapa tingkat Kepuasan Anda terhadap produk Yogurt Bark Fruity  \\\n",
       "count                                          91.000000                 \n",
       "mean                                            4.164835                 \n",
       "std                                             0.763962                 \n",
       "min                                             1.000000                 \n",
       "25%                                             4.000000                 \n",
       "50%                                             4.000000                 \n",
       "75%                                             5.000000                 \n",
       "max                                             5.000000                 \n",
       "\n",
       "       Yogurt Bark Fruity rasa apa yang anda sukai?  \n",
       "count                                     91.000000  \n",
       "mean                                       1.175824  \n",
       "std                                        0.382780  \n",
       "min                                        1.000000  \n",
       "25%                                        1.000000  \n",
       "50%                                        1.000000  \n",
       "75%                                        1.000000  \n",
       "max                                        2.000000  "
      ]
     },
     "execution_count": 16,
     "metadata": {},
     "output_type": "execute_result"
    }
   ],
   "source": [
    "dfdp.describe()"
   ]
  },
  {
   "cell_type": "code",
   "execution_count": 12,
   "metadata": {},
   "outputs": [
    {
     "name": "stdout",
     "output_type": "stream",
     "text": [
      "<class 'pandas.core.frame.DataFrame'>\n",
      "RangeIndex: 91 entries, 0 to 90\n",
      "Data columns (total 11 columns):\n",
      " #   Column                                                                    Non-Null Count  Dtype \n",
      "---  ------                                                                    --------------  ----- \n",
      " 0   Umur                                                                      91 non-null     object\n",
      " 1   Jenis Kelamin                                                             91 non-null     int64 \n",
      " 2   Pendidikan Terakhir                                                       91 non-null     int64 \n",
      " 3   Pekerjaan                                                                 91 non-null     int64 \n",
      " 4   Berapa jumlah uang yang anda habiskan dalam sehari untuk membeli cemilan  91 non-null     object\n",
      " 5   Seberapa sering anda membeli yogurt bark fruity ini                       91 non-null     object\n",
      " 6   Jenis Yogurt Bark Fruity sering anda dibeli                               91 non-null     int64 \n",
      " 7   Berapa tingkat Kepuasan Anda terhadap produk Yogurt Bark Fruity           91 non-null     int64 \n",
      " 8   Yogurt Bark Fruity rasa apa yang anda sukai?                              91 non-null     int64 \n",
      " 9   Apakah untuk  harga Rp 8.000 - Rp 9.000 ramah untuk kantong pelajar?      91 non-null     object\n",
      " 10  Media sosial apa yang paling sering anda gunakan?                         91 non-null     object\n",
      "dtypes: int64(6), object(5)\n",
      "memory usage: 7.9+ KB\n"
     ]
    }
   ],
   "source": [
    "dfdp.info()"
   ]
  },
  {
   "cell_type": "code",
   "execution_count": 18,
   "metadata": {},
   "outputs": [
    {
     "data": {
      "text/plain": [
       "Text(0.5, 1.0, 'Grafik Data Pelanggan')"
      ]
     },
     "execution_count": 18,
     "metadata": {},
     "output_type": "execute_result"
    },
    {
     "data": {
      "image/png": "[encoded data removed]",
      "text/plain": [
       "<Figure size 640x480 with 1 Axes>"
      ]
     },
     "metadata": {},
     "output_type": "display_data"
    }
   ],
   "source": [
    "plt.scatter(dfdp['Pendidikan Terakhir'],dfdp['Jenis Yogurt Bark Fruity sering anda dibeli'])\n",
    "plt.xlabel(\"JPendidikan Terakhir\")\n",
    "plt.ylabel(\"Jenis Yogurt Bark Fruity sering anda dibeli\")\n",
    "plt.title(\"Grafik Data Pelanggan\")"
   ]
  }
 ],
 "metadata": {
  "kernelspec": {
   "display_name": "Python 3",
   "language": "python",
   "name": "python3"
  },
  "language_info": {
   "codemirror_mode": {
    "name": "ipython",
    "version": 3
   },
   "file_extension": ".py",
   "mimetype": "text/x-python",
   "name": "python",
   "nbconvert_exporter": "python",
   "pygments_lexer": "ipython3",
   "version": "3.12.3"
  }
 },
 "nbformat": 4,
 "nbformat_minor": 2
}
